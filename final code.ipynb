{
 "cells": [
  {
   "cell_type": "code",
   "execution_count": 1,
   "id": "8686df17",
   "metadata": {},
   "outputs": [],
   "source": [
    "# simple factor model\n",
    "# only problem with \"real\" optimization \n",
    "# nice example because J'J is not invertible\n",
    "# but cholfact in sparse handles this case\n",
    "\n",
    "#can remove sparsearrays package under \"using\" and implement real world data\n"
   ]
  },
  {
   "cell_type": "code",
   "execution_count": 2,
   "id": "e9ccb9be",
   "metadata": {},
   "outputs": [],
   "source": [
    "using LeastSquaresOptim, Printf, Test, SparseArrays"
   ]
  },
  {
   "cell_type": "code",
   "execution_count": 3,
   "id": "eab34910",
   "metadata": {},
   "outputs": [
    {
     "data": {
      "text/plain": [
       "factor (generic function with 1 method)"
      ]
     },
     "execution_count": 3,
     "metadata": {},
     "output_type": "execute_result"
    }
   ],
   "source": [
    "function factor()\n",
    "    name = \"factor\"\n",
    "    function f!(fvec, x)\n",
    "        fvec[1] = 3.0 - x[1] * x[4]\n",
    "        fvec[2] = 2.0 - x[1] * x[5]\n",
    "        fvec[3] = 5.0 - x[1] * x[6]\n",
    "\n",
    "        fvec[4] = 4.5 - x[2] * x[4]\n",
    "        fvec[5] = 3.2 - x[2] * x[5]\n",
    "        fvec[6] = 2.0 - x[2] * x[6]\n",
    "\n",
    "        fvec[7] = 5.0 - x[3] * x[4]\n",
    "        fvec[8] = 1.3 - x[3] * x[5]\n",
    "        fvec[9] = 1.5 - x[3] * x[6]\n",
    "    end\n",
    "\n",
    "    function g!(J, x)\n",
    "        fill!(J, 0.0)\n",
    "        J[1, 1] = -x[4]\n",
    "        J[1, 4] = -x[1]\n",
    "        J[2, 1] = -x[5]\n",
    "        J[2, 5] = -x[1]\n",
    "        J[3, 1] = -x[6]\n",
    "        J[3, 6] = -x[1]\n",
    "\n",
    "        J[4, 2] = -x[4]\n",
    "        J[4, 4] = -x[2]\n",
    "        J[5, 2] = -x[5]\n",
    "        J[5, 5] = -x[2]\n",
    "        J[6, 2] = -x[6]\n",
    "        J[6, 6] = -x[2]\n",
    "\n",
    "        J[7, 3] = -x[4]\n",
    "        J[7, 4] = -x[3]\n",
    "        J[8, 3] = -x[5]\n",
    "        J[8, 5] = -x[3]\n",
    "        J[9, 3] = -x[6]\n",
    "        J[9, 6] = -x[3]\n",
    "    end\n",
    "\n",
    "    function g!(J::SparseMatrixCSC, x)\n",
    "        Jvals = nonzeros(J)\n",
    "        i = 0\n",
    "        i += 1\n",
    "        Jvals[i] = -x[4]\n",
    "        i += 1\n",
    "        Jvals[i] = -x[1]\n",
    "        i += 1\n",
    "        Jvals[i] = -x[5]\n",
    "        i += 1\n",
    "        Jvals[i] = -x[1]\n",
    "        i += 1\n",
    "        Jvals[i] = -x[6]\n",
    "        i += 1\n",
    "        Jvals[i] = -x[1]\n",
    "        i += 1\n",
    "        Jvals[i] = -x[4]\n",
    "        i += 1\n",
    "        Jvals[i] = -x[2]\n",
    "        i += 1\n",
    "        Jvals[i] = -x[5]\n",
    "        i += 1\n",
    "        Jvals[i] = -x[2]\n",
    "        i += 1\n",
    "        Jvals[i] = -x[6]\n",
    "        i += 1\n",
    "        Jvals[i] = -x[2]\n",
    "        i += 1\n",
    "        Jvals[i] = -x[4]\n",
    "        i += 1\n",
    "        Jvals[i] = -x[3]\n",
    "        i += 1\n",
    "        Jvals[i] = -x[5]\n",
    "        i += 1\n",
    "        Jvals[i] = -x[3]\n",
    "        i += 1\n",
    "        Jvals[i] = -x[6]\n",
    "        i += 1\n",
    "        Jvals[i] = -x[3]\n",
    "    end\n",
    "    x = ones(6)\n",
    "    return name, f!, g!, x\n",
    "end"
   ]
  },
  {
   "cell_type": "code",
   "execution_count": 4,
   "id": "a99be01a",
   "metadata": {},
   "outputs": [
    {
     "name": "stdout",
     "output_type": "stream",
     "text": [
      "Results of Optimization Algorithm\n",
      " * Algorithm: Dogleg\n",
      " * Minimizer: [1.8207952602219446,1.8326643281093078,1.625351684198129,2.3440042476533964,1.2472538969604525,1.63244401291874]\n",
      " * Sum of squares at Minimum: 10.928956\n",
      " * Iterations: 9\n",
      " * Convergence: true\n",
      " * |x - x'| < 1.0e-08: false\n",
      " * |f(x) - f(x')| / |f(x)| < 1.0e-08: true\n",
      " * |g(x)| < 1.0e-08: false\n",
      " * Function Calls: 10\n",
      " * Gradient Calls: 9\n",
      " * Multiplication Calls: 36\n",
      "  qr dl                         factor     9    10       9   1.092896e+01\n",
      "iter dl                         factor    33    34       9   1.103324e+01\n",
      "  qr lm                         factor     8     9       8   1.092896e+01\n",
      "iter lm                         factor    11    12       4   1.098622e+01\n"
     ]
    }
   ],
   "source": [
    "iter = 0\n",
    "for (optimizer, optimizer_abbr) in ((LeastSquaresOptim.Dogleg, :dl), (LeastSquaresOptim.LevenbergMarquardt, :lm))\n",
    "    for (solver, solver_abbr) in ((LeastSquaresOptim.QR(), :qr), (LeastSquaresOptim.LSMR(), :iter))\n",
    "        global iter += 1\n",
    "        global name, f!, g!, x = factor()\n",
    "        global fcur = ones(9)\n",
    "        global J = ones(9, 6)\n",
    "        g!(J, x)\n",
    "        if solver == LeastSquaresOptim.LSMR()\n",
    "            J = sparse(J)\n",
    "        end\n",
    "        global nls = LeastSquaresProblem(x = x, y = fcur, f! = f!, J = J, g! = g!)\n",
    "        global r = optimize!(nls, optimizer(solver))\n",
    "        if iter == 1\n",
    "            show(r)\n",
    "        end\n",
    "        @printf(\"%4s %2s %30s %5d %5d   %5d   %10e\\n\", solver_abbr, optimizer_abbr, name, r.iterations, r.f_calls, r.g_calls, r.ssr)\n",
    "        @test r.ssr <= 12\n",
    "        @test r.converged\n",
    "    end\n",
    "end"
   ]
  },
  {
   "cell_type": "code",
   "execution_count": null,
   "id": "c445cd2c",
   "metadata": {},
   "outputs": [],
   "source": []
  }
 ],
 "metadata": {
  "kernelspec": {
   "display_name": "Julia 1.7.2",
   "language": "julia",
   "name": "julia-1.7"
  },
  "language_info": {
   "file_extension": ".jl",
   "mimetype": "application/julia",
   "name": "julia",
   "version": "1.7.2"
  }
 },
 "nbformat": 4,
 "nbformat_minor": 5
}

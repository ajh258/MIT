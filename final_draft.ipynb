{
 "cells": [
  {
   "cell_type": "code",
   "execution_count": 2,
   "id": "66ec3d94",
   "metadata": {},
   "outputs": [
    {
     "name": "stdout",
     "output_type": "stream",
     "text": [
      "Done loading\n"
     ]
    }
   ],
   "source": [
    "# Load packages and data\n",
    "using DelimitedFiles, LinearAlgebra, Statistics, LeastSquaresOptim, Printf, Test, SparseArrays, Base\n",
    "\n",
    "data = readdlm(\"houseprice.csv\", ',', Float64)\n",
    "x = data[:, 1:end .!= 1]\n",
    "y = data[:, setdiff(1:end, (2,3))]\n",
    "println(\"Done loading\")"
   ]
  },
  {
   "cell_type": "markdown",
   "id": "d1b6d75d",
   "metadata": {},
   "source": [
    "#### Nonlinear Comparison: Dog Leg vs Levenberg–Marquardt"
   ]
  },
  {
   "cell_type": "code",
   "execution_count": 38,
   "id": "b5617679",
   "metadata": {},
   "outputs": [
    {
     "data": {
      "text/plain": [
       "watson (generic function with 1 method)"
      ]
     },
     "execution_count": 38,
     "metadata": {},
     "output_type": "execute_result"
    }
   ],
   "source": [
    "## Setting up F function and Jacobian\n",
    "\n",
    "n = trunc(Int, size(x,1))\n",
    "\n",
    "function watson(n::Integer)\n",
    "    name = \"watson\"\n",
    "    c9 = 2.9e1\n",
    "\n",
    "    function f!(fvec, x)\n",
    "        fill!(fvec, 0)\n",
    "        for i = 1:29\n",
    "            ti = i/c9\n",
    "            sum1 = 0.0\n",
    "            temp = 1.0\n",
    "            for j = 2:n\n",
    "                sum1 += (j-1)*temp*x[j]\n",
    "                temp *= ti\n",
    "            end\n",
    "            sum2 = 0.0\n",
    "            temp = 1.0\n",
    "            for j = 1:n\n",
    "                sum2 += temp*x[j]\n",
    "                temp *= ti\n",
    "            end\n",
    "            temp1 = sum1 - sum2^2 - 1\n",
    "            temp2 = 2*ti*sum2\n",
    "            temp = 1/ti\n",
    "            for k = 1:n\n",
    "                fvec[k] += temp*(k-1-temp2)*temp1\n",
    "                temp *= ti\n",
    "            end\n",
    "        end\n",
    "        temp = x[2] - x[1]^2 - 1\n",
    "        fvec[1] += x[1]*(1-2temp)\n",
    "        fvec[2] += temp\n",
    "    end\n",
    "\n",
    "    function g!(fjac, x)\n",
    "        fill!(fjac, 0)\n",
    "        for i = 1:29\n",
    "            ti = i/c9\n",
    "            sum1 = 0.0\n",
    "            temp = 1.0\n",
    "            for j = 2:n\n",
    "                sum1 += (j-1)*temp*x[j]\n",
    "                temp *= ti\n",
    "            end\n",
    "            sum2 = 0.0\n",
    "            temp = 1.0\n",
    "\n",
    "            for j = 1:n\n",
    "                sum2 += temp*x[j]\n",
    "                temp *= ti\n",
    "            end\n",
    "            temp1 = 2(sum1 - sum2^2 - 1)\n",
    "            temp2 = 2*sum2\n",
    "            temp = ti^2\n",
    "            tk = 1.0\n",
    "\n",
    "            for k = 1:n\n",
    "                tj = tk\n",
    "                for j = k:n\n",
    "                    fjac[k,j] += tj*((Float64(k-1)/ti - temp2)*(Float64(j-1)/ti - temp2) - temp1)\n",
    "                    tj *= ti\n",
    "                end\n",
    "                tk *= temp\n",
    "            end\n",
    "        end\n",
    "        fjac[1,1] += 6x[1]^2 - 2x[2] + 3\n",
    "        fjac[1,2] -= 2x[1]\n",
    "        fjac[2,2] += 1\n",
    "        for k = 1:n\n",
    "            for j = k:n\n",
    "                fjac[j,k] = fjac[k,j]\n",
    "            end\n",
    "        end\n",
    "    end\n",
    "    x = zeros(n)\n",
    "    return name, f!, g!, x\n",
    "end"
   ]
  },
  {
   "cell_type": "code",
   "execution_count": 39,
   "id": "1f965633",
   "metadata": {},
   "outputs": [
    {
     "name": "stdout",
     "output_type": "stream",
     "text": [
      "method   optimizer     iter  f_calls  g_calls             RMSD\n"
     ]
    },
    {
     "ename": "LoadError",
     "evalue": "MethodError: objects of type String are not callable",
     "output_type": "error",
     "traceback": [
      "MethodError: objects of type String are not callable",
      "",
      "Stacktrace:",
      " [1] optimize!(anls::LeastSquaresProblemAllocated{Matrix{Float64}, Matrix{Float64}, String, SparseMatrixCSC{Float64, Int64}, var\"#f!#15\"{Int64, Float64}, LeastSquaresOptim.AllocatedDogleg{Matrix{Float64}, Matrix{Float64}, Matrix{Float64}, Matrix{Float64}, Matrix{Float64}, Matrix{Float64}}, LeastSquaresOptim.LSMRAllocatedSolver{LeastSquaresOptim.var\"#20#22\", LeastSquaresOptim.InverseDiagonal{Matrix{Float64}}, Matrix{Float64}, Matrix{Float64}, Matrix{Float64}, Matrix{Float64}, Matrix{Float64}, Matrix{Float64}}}; x_tol::Float64, f_tol::Float64, g_tol::Float64, iterations::Int64, Δ::Float64, store_trace::Bool, show_trace::Bool, show_every::Int64, lower::Vector{Float64}, upper::Vector{Float64})",
      "   @ LeastSquaresOptim ~/.julia/packages/LeastSquaresOptim/B1WKJ/src/optimizer/dogleg.jl:71",
      " [2] optimize!(anls::LeastSquaresProblemAllocated{Matrix{Float64}, Matrix{Float64}, String, SparseMatrixCSC{Float64, Int64}, var\"#f!#15\"{Int64, Float64}, LeastSquaresOptim.AllocatedDogleg{Matrix{Float64}, Matrix{Float64}, Matrix{Float64}, Matrix{Float64}, Matrix{Float64}, Matrix{Float64}}, LeastSquaresOptim.LSMRAllocatedSolver{LeastSquaresOptim.var\"#20#22\", LeastSquaresOptim.InverseDiagonal{Matrix{Float64}}, Matrix{Float64}, Matrix{Float64}, Matrix{Float64}, Matrix{Float64}, Matrix{Float64}, Matrix{Float64}}})",
      "   @ LeastSquaresOptim ~/.julia/packages/LeastSquaresOptim/B1WKJ/src/optimizer/dogleg.jl:51",
      " [3] optimize!(nls::LeastSquaresProblem{Matrix{Float64}, Matrix{Float64}, String, SparseMatrixCSC{Float64, Int64}, var\"#f!#15\"{Int64, Float64}}, optimizer::Dogleg{LeastSquaresOptim.LSMR{Nothing, Nothing}}; kwargs::Base.Pairs{Symbol, Union{}, Tuple{}, NamedTuple{(), Tuple{}}})",
      "   @ LeastSquaresOptim ~/.julia/packages/LeastSquaresOptim/B1WKJ/src/types.jl:149",
      " [4] optimize!(nls::LeastSquaresProblem{Matrix{Float64}, Matrix{Float64}, String, SparseMatrixCSC{Float64, Int64}, var\"#f!#15\"{Int64, Float64}}, optimizer::Dogleg{LeastSquaresOptim.LSMR{Nothing, Nothing}})",
      "   @ LeastSquaresOptim ~/.julia/packages/LeastSquaresOptim/B1WKJ/src/types.jl:149",
      " [5] top-level scope",
      "   @ ./In[39]:10",
      " [6] eval",
      "   @ ./boot.jl:373 [inlined]",
      " [7] include_string(mapexpr::typeof(REPL.softscope), mod::Module, code::String, filename::String)",
      "   @ Base ./loading.jl:1196"
     ]
    }
   ],
   "source": [
    "iter = 0\n",
    "@printf(\"method   optimizer     iter  f_calls  g_calls             RMSD\\n\")\n",
    "for (optimizer, optimizer_abbr) in ((LeastSquaresOptim.Dogleg, :DogLeg), (LeastSquaresOptim.LevenbergMarquardt, :LevMar))\n",
    "        global iter += 1\n",
    "        global f!, g! = watson(n::Integer)\n",
    "        global J = ones(365, 365)\n",
    "        g!(J, x)\n",
    "        J = sparse(J)\n",
    "        global nls = LeastSquaresProblem(x = x, y = y, f! = f!, J = J, g! = g!)\n",
    "        global r = optimize!(nls, optimizer(LeastSquaresOptim.LSMR()))\n",
    "        if iter == 1\n",
    "        end\n",
    "        @printf(\"%6s %11s %8d %8d %8d  %15e\\n\", solver_abbr, optimizer_abbr, r.iterations, r.f_calls, r.g_calls, ((r.ssr)/size(x,1))^(0.5))\n",
    "        @test r.ssr <= 50000\n",
    "        @test r.converged\n",
    "end"
   ]
  },
  {
   "cell_type": "code",
   "execution_count": null,
   "id": "28536fcc",
   "metadata": {},
   "outputs": [],
   "source": []
  }
 ],
 "metadata": {
  "kernelspec": {
   "display_name": "Julia 1.7.2",
   "language": "julia",
   "name": "julia-1.7"
  },
  "language_info": {
   "file_extension": ".jl",
   "mimetype": "application/julia",
   "name": "julia",
   "version": "1.7.2"
  }
 },
 "nbformat": 4,
 "nbformat_minor": 5
}
